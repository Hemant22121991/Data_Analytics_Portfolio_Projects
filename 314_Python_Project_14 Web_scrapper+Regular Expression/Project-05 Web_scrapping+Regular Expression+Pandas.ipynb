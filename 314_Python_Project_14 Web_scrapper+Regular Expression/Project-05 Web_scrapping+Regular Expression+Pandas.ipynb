{
 "cells": [
  {
   "cell_type": "code",
   "execution_count": 5,
   "id": "2493d7af-89a0-4bca-ac13-b593844fcbce",
   "metadata": {},
   "outputs": [
    {
     "name": "stdout",
     "output_type": "stream",
     "text": [
      "Requirement already satisfied: certifi in d:\\anaconda3\\lib\\site-packages (2024.12.14)\n",
      "Collecting certifi\n",
      "  Downloading certifi-2025.1.31-py3-none-any.whl.metadata (2.5 kB)\n",
      "Downloading certifi-2025.1.31-py3-none-any.whl (166 kB)\n",
      "Installing collected packages: certifi\n",
      "  Attempting uninstall: certifi\n",
      "    Found existing installation: certifi 2024.12.14\n",
      "    Uninstalling certifi-2024.12.14:\n",
      "      Successfully uninstalled certifi-2024.12.14\n",
      "Successfully installed certifi-2025.1.31\n",
      "Note: you may need to restart the kernel to use updated packages.\n"
     ]
    }
   ],
   "source": [
    "pip install --upgrade certifi"
   ]
  },
  {
   "cell_type": "code",
   "execution_count": 1,
   "id": "cd2e038a-b023-48ea-b81b-72887532dbb7",
   "metadata": {},
   "outputs": [],
   "source": [
    "from bs4 import BeautifulSoup\n",
    "import requests\n",
    "import pandas as pd"
   ]
  },
  {
   "cell_type": "code",
   "execution_count": 8,
   "id": "09fa6bfa-cccc-4bbe-8a7b-c55a1ff8b0e5",
   "metadata": {},
   "outputs": [
    {
     "name": "stderr",
     "output_type": "stream",
     "text": [
      "D:\\Anaconda3\\Lib\\site-packages\\urllib3\\connectionpool.py:1099: InsecureRequestWarning: Unverified HTTPS request is being made to host 'analytictech.com'. Adding certificate verification is strongly advised. See: https://urllib3.readthedocs.io/en/latest/advanced-usage.html#tls-warnings\n",
      "  warnings.warn(\n"
     ]
    }
   ],
   "source": [
    "url = 'https://analytictech.com/mb021/mlk.htm'\n",
    "\n",
    "page = requests.get(url, verify=False)\n",
    "\n",
    "soup = BeautifulSoup(page.text, 'html')"
   ]
  },
  {
   "cell_type": "raw",
   "id": "29d7659f-840c-412f-956b-f798d3c70a17",
   "metadata": {},
   "source": [
    "print(soup)"
   ]
  },
  {
   "cell_type": "code",
   "execution_count": 9,
   "id": "68727f5e-6a4c-49d0-9702-e310342a9fb9",
   "metadata": {},
   "outputs": [
    {
     "name": "stdout",
     "output_type": "stream",
     "text": [
      "<!DOCTYPE HTML PUBLIC \"-//IETF//DTD HTML//EN\">\n",
      "<html>\n",
      "<head>\n",
      "<meta content=\"text/html; charset=utf-8\" http-equiv=\"Content-Type\"/>\n",
      "<meta content=\"Microsoft FrontPage 4.0\" name=\"GENERATOR\"/>\n",
      "<title>Martin Luther King Jr.'s 1962 Speech</title>\n",
      "</head>\n",
      "<body alink=\"#FF0000\" bgcolor=\"#FFFFFF\" link=\"#0000FF\" text=\"#000000\" vlink=\"#551A8B\">\n",
      "<h1><font size=\"5\">Transcript of speech by </font><br/>\n",
      "Dr. Martin Luther King Jr. <br/>\n",
      "August 28, 1963. Lincoln Memorial in Washington D.C. </h1>\n",
      "<hr color=\"#008080\" noshade=\"\" size=\"5\"/>\n",
      "<p>I am happy to join with you today in what will go down in\n",
      "history as the greatest demonstration for freedom in the history\n",
      "of our nation. </p>\n",
      "<p>Five score years ago a great American in whose symbolic shadow\n",
      "we stand today signed the Emancipation Proclamation. This\n",
      "momentous decree came as a great beckoning light of hope to\n",
      "millions of Negro slaves who had been seared in the flames of\n",
      "withering injustice. It came as a joyous daybreak to end the long\n",
      "night of their captivity. </p>\n",
      "<p>But one hundred years later the Negro is still not free. One\n",
      "hundred years later the life of the Negro is still sadly crippled\n",
      "by the manacles of segregation and the chains of discrimination. </p>\n",
      "<p>One hundred years later the Negro lives on a lonely island of\n",
      "poverty in the midst of a vast ocean of material prosperity. </p>\n",
      "<p>One hundred years later the Negro is still languishing in the\n",
      "comers of American society and finds himself in exile in his own\n",
      "land. </p>\n",
      "<p>We all have come to this hallowed spot to remind America of\n",
      "the fierce urgency of now. Now is the time to rise from the dark\n",
      "and desolate valley of segregation to the sunlit path of racial\n",
      "justice. Now is the time to change racial injustice to the solid\n",
      "rock of brotherhood. Now is the time to make justice ring out for\n",
      "all of God's children. </p>\n",
      "<p>There will be neither rest nor tranquility in America until\n",
      "the Negro is granted citizenship rights. </p>\n",
      "<p>We must forever conduct our struggle on the high plane of\n",
      "dignity and discipline. We must not allow our creative protest to\n",
      "degenerate into physical violence. Again and again we must rise\n",
      "to the majestic heights of meeting physical force with soul\n",
      "force. </p>\n",
      "<p>And the marvelous new militarism which has engulfed the Negro\n",
      "community must not lead us to a distrust of all white people, for\n",
      "many of our white brothers have evidenced by their presence here\n",
      "today that they have come to realize that their destiny is part\n",
      "of our destiny. </p>\n",
      "<p>So even though we face the difficulties of today and tomorrow\n",
      "I still have a dream. It is a dream deeply rooted in the American\n",
      "dream. </p>\n",
      "<p>I have a dream that one day this nation will rise up and live\n",
      "out the true meaning of its creed: 'We hold these truths to be\n",
      "self-evident; that all men are created equal.\" </p>\n",
      "<p>I have a dream that one day on the red hills of Georgia the\n",
      "sons of former slaves and the sons of former slave owners will be\n",
      "able to sit together at the table of brotherhood. </p>\n",
      "<p>I have a dream that one day even the state of Mississippi, a\n",
      "state sweltering with the heat of injustice, sweltering with the\n",
      "heat of oppression, will be transformed into an oasis of freedom\n",
      "and justice. </p>\n",
      "<p>I have a dream that little children will one day live in a\n",
      "nation where they will not be judged by the color of their skin\n",
      "but by the content of their character. </p>\n",
      "<p>I have a dream today. </p>\n",
      "<p>I have a dream that one day down in Alabama, with its vicious\n",
      "racists, with its Governor having his lips dripping with the\n",
      "words of interposition and nullification, one day right there in\n",
      "Alabama little black boys and black girls will be able to join\n",
      "hands with little white boys and white girls as sisters and\n",
      "brothers. </p>\n",
      "<p>I have a dream today. </p>\n",
      "<p>I have a dream that one day every valley shall be exalted,\n",
      "every hill and mountain shall be made low, the rough places\n",
      "plains, and the crooked places will be made straight, and before\n",
      "the Lord will be revealed, and all flesh shall see it together. </p>\n",
      "<p>This is our hope. This is the faith that I go back to the\n",
      "mount with. With this faith we will be able to hew out of the\n",
      "mountain of despair a stone of hope. With this faith we will be\n",
      "able to transform the genuine discords of our nation into a\n",
      "beautiful symphony of brotherhood. With this faith we will be\n",
      "able to work together, pray together; to struggle together, to go\n",
      "to jail together, to stand up for freedom forever, )mowing that\n",
      "we will be free one day. </p>\n",
      "<p>And I say to you today my friends, let freedom ring. From the\n",
      "prodigious hilltops of New Hampshire, let freedom ring. From the\n",
      "mighty mountains of New York, let freedom ring. From the mighty\n",
      "Alleghenies of Pennsylvania! </p>\n",
      "<p>Let freedom ring from the snow capped Rockies of Colorado! </p>\n",
      "<p>Let freedom ring from the curvaceous slopes of California! </p>\n",
      "<p>But not only there; let freedom ring from the Stone Mountain\n",
      "of Georgia! </p>\n",
      "<p>Let freedom ring from Lookout Mountain in Tennessee! </p>\n",
      "<p>Let freedom ring from every hill and molehill in Mississippi.\n",
      "From every mountainside, let freedom ring. </p>\n",
      "<p>And when this happens, when we allow freedom to ring, when we\n",
      "let it ring from every village and hamlet, from every state and\n",
      "every city, we will be able to speed up that day when all of\n",
      "God's children, black men and white men, Jews and Gentiles,\n",
      "Protestants and Catholics, will be able to join hands and sing in\n",
      "the words of the old Negro spiritual, \"Free at last! Free at\n",
      "last! Thank God almighty, we're free at last!\" </p>\n",
      "</body>\n",
      "</html>\n",
      "\n"
     ]
    }
   ],
   "source": [
    "print(soup)"
   ]
  },
  {
   "cell_type": "code",
   "execution_count": 11,
   "id": "d8c6f57d-36e6-4b52-9b8a-93c4d75a538b",
   "metadata": {},
   "outputs": [],
   "source": [
    "mlkj_speech = soup.find_all('p')"
   ]
  },
  {
   "cell_type": "code",
   "execution_count": 12,
   "id": "5d2a8367-8059-47dd-9a72-f5128c0f8d15",
   "metadata": {},
   "outputs": [
    {
     "data": {
      "text/plain": [
       "[<p>I am happy to join with you today in what will go down in\n",
       " history as the greatest demonstration for freedom in the history\n",
       " of our nation. </p>,\n",
       " <p>Five score years ago a great American in whose symbolic shadow\n",
       " we stand today signed the Emancipation Proclamation. This\n",
       " momentous decree came as a great beckoning light of hope to\n",
       " millions of Negro slaves who had been seared in the flames of\n",
       " withering injustice. It came as a joyous daybreak to end the long\n",
       " night of their captivity. </p>,\n",
       " <p>But one hundred years later the Negro is still not free. One\n",
       " hundred years later the life of the Negro is still sadly crippled\n",
       " by the manacles of segregation and the chains of discrimination. </p>,\n",
       " <p>One hundred years later the Negro lives on a lonely island of\n",
       " poverty in the midst of a vast ocean of material prosperity. </p>,\n",
       " <p>One hundred years later the Negro is still languishing in the\n",
       " comers of American society and finds himself in exile in his own\n",
       " land. </p>,\n",
       " <p>We all have come to this hallowed spot to remind America of\n",
       " the fierce urgency of now. Now is the time to rise from the dark\n",
       " and desolate valley of segregation to the sunlit path of racial\n",
       " justice. Now is the time to change racial injustice to the solid\n",
       " rock of brotherhood. Now is the time to make justice ring out for\n",
       " all of God's children. </p>,\n",
       " <p>There will be neither rest nor tranquility in America until\n",
       " the Negro is granted citizenship rights. </p>,\n",
       " <p>We must forever conduct our struggle on the high plane of\n",
       " dignity and discipline. We must not allow our creative protest to\n",
       " degenerate into physical violence. Again and again we must rise\n",
       " to the majestic heights of meeting physical force with soul\n",
       " force. </p>,\n",
       " <p>And the marvelous new militarism which has engulfed the Negro\n",
       " community must not lead us to a distrust of all white people, for\n",
       " many of our white brothers have evidenced by their presence here\n",
       " today that they have come to realize that their destiny is part\n",
       " of our destiny. </p>,\n",
       " <p>So even though we face the difficulties of today and tomorrow\n",
       " I still have a dream. It is a dream deeply rooted in the American\n",
       " dream. </p>,\n",
       " <p>I have a dream that one day this nation will rise up and live\n",
       " out the true meaning of its creed: 'We hold these truths to be\n",
       " self-evident; that all men are created equal.\" </p>,\n",
       " <p>I have a dream that one day on the red hills of Georgia the\n",
       " sons of former slaves and the sons of former slave owners will be\n",
       " able to sit together at the table of brotherhood. </p>,\n",
       " <p>I have a dream that one day even the state of Mississippi, a\n",
       " state sweltering with the heat of injustice, sweltering with the\n",
       " heat of oppression, will be transformed into an oasis of freedom\n",
       " and justice. </p>,\n",
       " <p>I have a dream that little children will one day live in a\n",
       " nation where they will not be judged by the color of their skin\n",
       " but by the content of their character. </p>,\n",
       " <p>I have a dream today. </p>,\n",
       " <p>I have a dream that one day down in Alabama, with its vicious\n",
       " racists, with its Governor having his lips dripping with the\n",
       " words of interposition and nullification, one day right there in\n",
       " Alabama little black boys and black girls will be able to join\n",
       " hands with little white boys and white girls as sisters and\n",
       " brothers. </p>,\n",
       " <p>I have a dream today. </p>,\n",
       " <p>I have a dream that one day every valley shall be exalted,\n",
       " every hill and mountain shall be made low, the rough places\n",
       " plains, and the crooked places will be made straight, and before\n",
       " the Lord will be revealed, and all flesh shall see it together. </p>,\n",
       " <p>This is our hope. This is the faith that I go back to the\n",
       " mount with. With this faith we will be able to hew out of the\n",
       " mountain of despair a stone of hope. With this faith we will be\n",
       " able to transform the genuine discords of our nation into a\n",
       " beautiful symphony of brotherhood. With this faith we will be\n",
       " able to work together, pray together; to struggle together, to go\n",
       " to jail together, to stand up for freedom forever, )mowing that\n",
       " we will be free one day. </p>,\n",
       " <p>And I say to you today my friends, let freedom ring. From the\n",
       " prodigious hilltops of New Hampshire, let freedom ring. From the\n",
       " mighty mountains of New York, let freedom ring. From the mighty\n",
       " Alleghenies of Pennsylvania! </p>,\n",
       " <p>Let freedom ring from the snow capped Rockies of Colorado! </p>,\n",
       " <p>Let freedom ring from the curvaceous slopes of California! </p>,\n",
       " <p>But not only there; let freedom ring from the Stone Mountain\n",
       " of Georgia! </p>,\n",
       " <p>Let freedom ring from Lookout Mountain in Tennessee! </p>,\n",
       " <p>Let freedom ring from every hill and molehill in Mississippi.\n",
       " From every mountainside, let freedom ring. </p>,\n",
       " <p>And when this happens, when we allow freedom to ring, when we\n",
       " let it ring from every village and hamlet, from every state and\n",
       " every city, we will be able to speed up that day when all of\n",
       " God's children, black men and white men, Jews and Gentiles,\n",
       " Protestants and Catholics, will be able to join hands and sing in\n",
       " the words of the old Negro spiritual, \"Free at last! Free at\n",
       " last! Thank God almighty, we're free at last!\" </p>]"
      ]
     },
     "execution_count": 12,
     "metadata": {},
     "output_type": "execute_result"
    }
   ],
   "source": [
    "mlkj_speech"
   ]
  },
  {
   "cell_type": "code",
   "execution_count": 13,
   "id": "8aa1bb9f-6787-43f1-87b0-71affd231422",
   "metadata": {},
   "outputs": [
    {
     "data": {
      "text/plain": [
       "bs4.element.ResultSet"
      ]
     },
     "execution_count": 13,
     "metadata": {},
     "output_type": "execute_result"
    }
   ],
   "source": [
    "type(mlkj_speech)"
   ]
  },
  {
   "cell_type": "code",
   "execution_count": 14,
   "id": "7255fdd0-942b-41e7-88d4-a94bebe64bf3",
   "metadata": {},
   "outputs": [
    {
     "name": "stdout",
     "output_type": "stream",
     "text": [
      "['I am happy to join with you today in what will go down in\\r\\nhistory as the greatest demonstration for freedom in the history\\r\\nof our nation. ', 'Five score years ago a great American in whose symbolic shadow\\r\\nwe stand today signed the Emancipation Proclamation. This\\r\\nmomentous decree came as a great beckoning light of hope to\\r\\nmillions of Negro slaves who had been seared in the flames of\\r\\nwithering injustice. It came as a joyous daybreak to end the long\\r\\nnight of their captivity. ', 'But one hundred years later the Negro is still not free. One\\r\\nhundred years later the life of the Negro is still sadly crippled\\r\\nby the manacles of segregation and the chains of discrimination. ', 'One hundred years later the Negro lives on a lonely island of\\r\\npoverty in the midst of a vast ocean of material prosperity. ', 'One hundred years later the Negro is still languishing in the\\r\\ncomers of American society and finds himself in exile in his own\\r\\nland. ', \"We all have come to this hallowed spot to remind America of\\r\\nthe fierce urgency of now. Now is the time to rise from the dark\\r\\nand desolate valley of segregation to the sunlit path of racial\\r\\njustice. Now is the time to change racial injustice to the solid\\r\\nrock of brotherhood. Now is the time to make justice ring out for\\r\\nall of God's children. \", 'There will be neither rest nor tranquility in America until\\r\\nthe Negro is granted citizenship rights. ', 'We must forever conduct our struggle on the high plane of\\r\\ndignity and discipline. We must not allow our creative protest to\\r\\ndegenerate into physical violence. Again and again we must rise\\r\\nto the majestic heights of meeting physical force with soul\\r\\nforce. ', 'And the marvelous new militarism which has engulfed the Negro\\r\\ncommunity must not lead us to a distrust of all white people, for\\r\\nmany of our white brothers have evidenced by their presence here\\r\\ntoday that they have come to realize that their destiny is part\\r\\nof our destiny. ', 'So even though we face the difficulties of today and tomorrow\\r\\nI still have a dream. It is a dream deeply rooted in the American\\r\\ndream. ', 'I have a dream that one day this nation will rise up and live\\r\\nout the true meaning of its creed: \\'We hold these truths to be\\r\\nself-evident; that all men are created equal.\" ', 'I have a dream that one day on the red hills of Georgia the\\r\\nsons of former slaves and the sons of former slave owners will be\\r\\nable to sit together at the table of brotherhood. ', 'I have a dream that one day even the state of Mississippi, a\\r\\nstate sweltering with the heat of injustice, sweltering with the\\r\\nheat of oppression, will be transformed into an oasis of freedom\\r\\nand justice. ', 'I have a dream that little children will one day live in a\\r\\nnation where they will not be judged by the color of their skin\\r\\nbut by the content of their character. ', 'I have a dream today. ', 'I have a dream that one day down in Alabama, with its vicious\\r\\nracists, with its Governor having his lips dripping with the\\r\\nwords of interposition and nullification, one day right there in\\r\\nAlabama little black boys and black girls will be able to join\\r\\nhands with little white boys and white girls as sisters and\\r\\nbrothers. ', 'I have a dream today. ', 'I have a dream that one day every valley shall be exalted,\\r\\nevery hill and mountain shall be made low, the rough places\\r\\nplains, and the crooked places will be made straight, and before\\r\\nthe Lord will be revealed, and all flesh shall see it together. ', 'This is our hope. This is the faith that I go back to the\\r\\nmount with. With this faith we will be able to hew out of the\\r\\nmountain of despair a stone of hope. With this faith we will be\\r\\nable to transform the genuine discords of our nation into a\\r\\nbeautiful symphony of brotherhood. With this faith we will be\\r\\nable to work together, pray together; to struggle together, to go\\r\\nto jail together, to stand up for freedom forever, )mowing that\\r\\nwe will be free one day. ', 'And I say to you today my friends, let freedom ring. From the\\r\\nprodigious hilltops of New Hampshire, let freedom ring. From the\\r\\nmighty mountains of New York, let freedom ring. From the mighty\\r\\nAlleghenies of Pennsylvania! ', 'Let freedom ring from the snow capped Rockies of Colorado! ', 'Let freedom ring from the curvaceous slopes of California! ', 'But not only there; let freedom ring from the Stone Mountain\\r\\nof Georgia! ', 'Let freedom ring from Lookout Mountain in Tennessee! ', 'Let freedom ring from every hill and molehill in Mississippi.\\r\\nFrom every mountainside, let freedom ring. ', 'And when this happens, when we allow freedom to ring, when we\\r\\nlet it ring from every village and hamlet, from every state and\\r\\nevery city, we will be able to speed up that day when all of\\r\\nGod\\'s children, black men and white men, Jews and Gentiles,\\r\\nProtestants and Catholics, will be able to join hands and sing in\\r\\nthe words of the old Negro spiritual, \"Free at last! Free at\\r\\nlast! Thank God almighty, we\\'re free at last!\" ']\n"
     ]
    }
   ],
   "source": [
    "speech_combine = [p.text for p in mlkj_speech]\n",
    "\n",
    "print(speech_combine)"
   ]
  },
  {
   "cell_type": "code",
   "execution_count": 15,
   "id": "7176e513-2fae-4f02-b3f6-893bd49d6621",
   "metadata": {},
   "outputs": [
    {
     "data": {
      "text/plain": [
       "list"
      ]
     },
     "execution_count": 15,
     "metadata": {},
     "output_type": "execute_result"
    }
   ],
   "source": [
    "type(speech_combine)"
   ]
  },
  {
   "cell_type": "code",
   "execution_count": 16,
   "id": "b1a44120-7a58-4d15-ad43-5b49666612b8",
   "metadata": {},
   "outputs": [
    {
     "data": {
      "text/plain": [
       "'I am happy to join with you today in what will go down in\\r\\nhistory as the greatest demonstration for freedom in the history\\r\\nof our nation.  Five score years ago a great American in whose symbolic shadow\\r\\nwe stand today signed the Emancipation Proclamation. This\\r\\nmomentous decree came as a great beckoning light of hope to\\r\\nmillions of Negro slaves who had been seared in the flames of\\r\\nwithering injustice. It came as a joyous daybreak to end the long\\r\\nnight of their captivity.  But one hundred years later the Negro is still not free. One\\r\\nhundred years later the life of the Negro is still sadly crippled\\r\\nby the manacles of segregation and the chains of discrimination.  One hundred years later the Negro lives on a lonely island of\\r\\npoverty in the midst of a vast ocean of material prosperity.  One hundred years later the Negro is still languishing in the\\r\\ncomers of American society and finds himself in exile in his own\\r\\nland.  We all have come to this hallowed spot to remind America of\\r\\nthe fierce urgency of now. Now is the time to rise from the dark\\r\\nand desolate valley of segregation to the sunlit path of racial\\r\\njustice. Now is the time to change racial injustice to the solid\\r\\nrock of brotherhood. Now is the time to make justice ring out for\\r\\nall of God\\'s children.  There will be neither rest nor tranquility in America until\\r\\nthe Negro is granted citizenship rights.  We must forever conduct our struggle on the high plane of\\r\\ndignity and discipline. We must not allow our creative protest to\\r\\ndegenerate into physical violence. Again and again we must rise\\r\\nto the majestic heights of meeting physical force with soul\\r\\nforce.  And the marvelous new militarism which has engulfed the Negro\\r\\ncommunity must not lead us to a distrust of all white people, for\\r\\nmany of our white brothers have evidenced by their presence here\\r\\ntoday that they have come to realize that their destiny is part\\r\\nof our destiny.  So even though we face the difficulties of today and tomorrow\\r\\nI still have a dream. It is a dream deeply rooted in the American\\r\\ndream.  I have a dream that one day this nation will rise up and live\\r\\nout the true meaning of its creed: \\'We hold these truths to be\\r\\nself-evident; that all men are created equal.\"  I have a dream that one day on the red hills of Georgia the\\r\\nsons of former slaves and the sons of former slave owners will be\\r\\nable to sit together at the table of brotherhood.  I have a dream that one day even the state of Mississippi, a\\r\\nstate sweltering with the heat of injustice, sweltering with the\\r\\nheat of oppression, will be transformed into an oasis of freedom\\r\\nand justice.  I have a dream that little children will one day live in a\\r\\nnation where they will not be judged by the color of their skin\\r\\nbut by the content of their character.  I have a dream today.  I have a dream that one day down in Alabama, with its vicious\\r\\nracists, with its Governor having his lips dripping with the\\r\\nwords of interposition and nullification, one day right there in\\r\\nAlabama little black boys and black girls will be able to join\\r\\nhands with little white boys and white girls as sisters and\\r\\nbrothers.  I have a dream today.  I have a dream that one day every valley shall be exalted,\\r\\nevery hill and mountain shall be made low, the rough places\\r\\nplains, and the crooked places will be made straight, and before\\r\\nthe Lord will be revealed, and all flesh shall see it together.  This is our hope. This is the faith that I go back to the\\r\\nmount with. With this faith we will be able to hew out of the\\r\\nmountain of despair a stone of hope. With this faith we will be\\r\\nable to transform the genuine discords of our nation into a\\r\\nbeautiful symphony of brotherhood. With this faith we will be\\r\\nable to work together, pray together; to struggle together, to go\\r\\nto jail together, to stand up for freedom forever, )mowing that\\r\\nwe will be free one day.  And I say to you today my friends, let freedom ring. From the\\r\\nprodigious hilltops of New Hampshire, let freedom ring. From the\\r\\nmighty mountains of New York, let freedom ring. From the mighty\\r\\nAlleghenies of Pennsylvania!  Let freedom ring from the snow capped Rockies of Colorado!  Let freedom ring from the curvaceous slopes of California!  But not only there; let freedom ring from the Stone Mountain\\r\\nof Georgia!  Let freedom ring from Lookout Mountain in Tennessee!  Let freedom ring from every hill and molehill in Mississippi.\\r\\nFrom every mountainside, let freedom ring.  And when this happens, when we allow freedom to ring, when we\\r\\nlet it ring from every village and hamlet, from every state and\\r\\nevery city, we will be able to speed up that day when all of\\r\\nGod\\'s children, black men and white men, Jews and Gentiles,\\r\\nProtestants and Catholics, will be able to join hands and sing in\\r\\nthe words of the old Negro spiritual, \"Free at last! Free at\\r\\nlast! Thank God almighty, we\\'re free at last!\" '"
      ]
     },
     "execution_count": 16,
     "metadata": {},
     "output_type": "execute_result"
    }
   ],
   "source": [
    "' '.join(speech_combine)"
   ]
  },
  {
   "cell_type": "code",
   "execution_count": 17,
   "id": "2847697b-b722-4063-80e0-f9ac25b6a239",
   "metadata": {},
   "outputs": [],
   "source": [
    "string_speech = ' '.join(speech_combine)"
   ]
  },
  {
   "cell_type": "code",
   "execution_count": 22,
   "id": "fac5b8a4-6907-4975-9f08-d9d185171c4e",
   "metadata": {},
   "outputs": [],
   "source": [
    "string_speech= string_speech.replace('\\r\\n',' ')"
   ]
  },
  {
   "cell_type": "code",
   "execution_count": 23,
   "id": "7604e17a-5a03-408e-83fc-e394cfa9e4a3",
   "metadata": {},
   "outputs": [
    {
     "data": {
      "text/plain": [
       "'I am happy to join with you today in what will go down in history as the greatest demonstration for '"
      ]
     },
     "execution_count": 23,
     "metadata": {},
     "output_type": "execute_result"
    }
   ],
   "source": [
    "string_speech[:100]"
   ]
  },
  {
   "cell_type": "code",
   "execution_count": 26,
   "id": "2efd25dc-b402-4f29-9199-109daf571b37",
   "metadata": {},
   "outputs": [],
   "source": [
    "import re"
   ]
  },
  {
   "cell_type": "code",
   "execution_count": 29,
   "id": "212f5a4a-a339-4d77-a974-69d395f918b9",
   "metadata": {},
   "outputs": [],
   "source": [
    "speech_no_punc = re.sub(r'[^\\w\\s]','',string_speech)"
   ]
  },
  {
   "cell_type": "code",
   "execution_count": 31,
   "id": "be49d622-c4f6-4701-8474-ca88f4382200",
   "metadata": {},
   "outputs": [],
   "source": [
    "speech_lower = speech_no_punc.lower()"
   ]
  },
  {
   "cell_type": "code",
   "execution_count": 33,
   "id": "de5d31fc-f779-4f33-9ced-188feb4dad3e",
   "metadata": {},
   "outputs": [],
   "source": [
    "speech_broken_out = re.split(r'\\s+',speech_lower)"
   ]
  },
  {
   "cell_type": "code",
   "execution_count": 35,
   "id": "de2a9ec5-8876-4acc-b896-ee7f6608f77d",
   "metadata": {},
   "outputs": [],
   "source": [
    "df = pd.DataFrame(speech_broken_out).value_counts()"
   ]
  },
  {
   "cell_type": "code",
   "execution_count": 40,
   "id": "7e178041-7df9-437c-ba7f-b10699102e3a",
   "metadata": {},
   "outputs": [],
   "source": [
    "df.to_csv('test.csv',header = ['Counts'],index_label = 'Word')"
   ]
  },
  {
   "cell_type": "code",
   "execution_count": null,
   "id": "fd2d5f4b-9129-4ddd-9046-cc62ed05352a",
   "metadata": {},
   "outputs": [],
   "source": []
  }
 ],
 "metadata": {
  "kernelspec": {
   "display_name": "Python 3 (ipykernel)",
   "language": "python",
   "name": "python3"
  },
  "language_info": {
   "codemirror_mode": {
    "name": "ipython",
    "version": 3
   },
   "file_extension": ".py",
   "mimetype": "text/x-python",
   "name": "python",
   "nbconvert_exporter": "python",
   "pygments_lexer": "ipython3",
   "version": "3.12.7"
  }
 },
 "nbformat": 4,
 "nbformat_minor": 5
}
